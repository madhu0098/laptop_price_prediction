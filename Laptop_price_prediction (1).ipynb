{
  "cells": [
    {
      "cell_type": "code",
      "execution_count": null,
      "metadata": {
        "id": "HAQ4pa1oK16Y"
      },
      "outputs": [],
      "source": [
        "import pandas as pd\n",
        "import numpy as np"
      ]
    },
    {
      "cell_type": "code",
      "execution_count": null,
      "metadata": {
        "id": "tFR9MyT-LHWc"
      },
      "outputs": [],
      "source": [
        "df=pd.read_csv('/content/drive/MyDrive/laptop_data.csv')"
      ]
    },
    {
      "cell_type": "code",
      "execution_count": null,
      "metadata": {
        "id": "EyT5-3vbLacw"
      },
      "outputs": [],
      "source": [
        "df"
      ]
    },
    {
      "cell_type": "code",
      "execution_count": null,
      "metadata": {
        "id": "oGtZnp32Miqd"
      },
      "outputs": [],
      "source": [
        "df.info()"
      ]
    },
    {
      "cell_type": "code",
      "execution_count": null,
      "metadata": {
        "id": "c2KEMXspMpm1"
      },
      "outputs": [],
      "source": [
        "print('Duplicated sum values:', df.duplicated().sum(), '\\n')\n",
        "print('Missing sum values:')\n",
        "print(df.isnull().sum())"
      ]
    },
    {
      "cell_type": "code",
      "execution_count": null,
      "metadata": {
        "id": "OJbAUMFmMu1h"
      },
      "outputs": [],
      "source": [
        "df.drop(columns=['Unnamed: 0'], inplace=True)"
      ]
    },
    {
      "cell_type": "code",
      "execution_count": null,
      "metadata": {
        "id": "f1G5bDlmM0r4"
      },
      "outputs": [],
      "source": [
        "df.head(1)"
      ]
    },
    {
      "cell_type": "code",
      "execution_count": null,
      "metadata": {
        "id": "yo-9IDR6M9MD"
      },
      "outputs": [],
      "source": [
        "df['Ram'] = df['Ram'].str.replace('GB', '')\n",
        "df['Weight'] = df['Weight'].str.replace('kg', '')"
      ]
    },
    {
      "cell_type": "code",
      "execution_count": null,
      "metadata": {
        "id": "7asRJinfNB1v"
      },
      "outputs": [],
      "source": [
        "df.head(3)"
      ]
    },
    {
      "cell_type": "code",
      "execution_count": null,
      "metadata": {
        "id": "Hdl_j50ZNFXg"
      },
      "outputs": [],
      "source": [
        "df['Ram'] = df['Ram'].astype('int32')\n",
        "df['Weight'] = df['Weight'].astype('float32')"
      ]
    },
    {
      "cell_type": "code",
      "execution_count": null,
      "metadata": {
        "id": "VS_Q4QDpNJ5S"
      },
      "outputs": [],
      "source": [
        "df.dtypes"
      ]
    },
    {
      "cell_type": "code",
      "execution_count": null,
      "metadata": {
        "id": "jLoV6A1MNNOS"
      },
      "outputs": [],
      "source": [
        "import seaborn as sns\n",
        "import matplotlib.pyplot as plt"
      ]
    },
    {
      "cell_type": "code",
      "execution_count": null,
      "metadata": {
        "id": "xH_383VvNZbm"
      },
      "outputs": [],
      "source": [
        "sns.histplot(df['Price'], kde=True, stat='density')"
      ]
    },
    {
      "cell_type": "code",
      "execution_count": null,
      "metadata": {
        "id": "28Hx5MMkNr1-"
      },
      "outputs": [],
      "source": [
        "df['Company'].value_counts().plot(kind='bar')"
      ]
    },
    {
      "cell_type": "code",
      "execution_count": null,
      "metadata": {
        "id": "7J0p7-f1N7bp"
      },
      "outputs": [],
      "source": [
        "sns.barplot(x=df['Company'], y=df['Price'])\n",
        "plt.xticks(rotation=45)\n",
        "plt.show()"
      ]
    },
    {
      "cell_type": "code",
      "execution_count": null,
      "metadata": {
        "id": "OCOMm57WOK22"
      },
      "outputs": [],
      "source": [
        "df['TypeName'].value_counts().plot(kind='bar')"
      ]
    },
    {
      "cell_type": "code",
      "execution_count": null,
      "metadata": {
        "id": "IJno572HOZvp"
      },
      "outputs": [],
      "source": [
        "sns.barplot(x=df['TypeName'], y=df['Price'])\n",
        "plt.xticks(rotation=45)\n",
        "plt.show()"
      ]
    },
    {
      "cell_type": "code",
      "execution_count": null,
      "metadata": {
        "id": "juuG-213Oe3v"
      },
      "outputs": [],
      "source": [
        "sns.histplot(df['Inches'], kde=True, stat='density')"
      ]
    },
    {
      "cell_type": "code",
      "execution_count": null,
      "metadata": {
        "id": "12YjBQkgOkBL"
      },
      "outputs": [],
      "source": [
        "sns.scatterplot(x=df['Inches'], y=df['Price'])"
      ]
    },
    {
      "cell_type": "code",
      "execution_count": null,
      "metadata": {
        "id": "BeBIpkhsOov-"
      },
      "outputs": [],
      "source": [
        "df['ScreenResolution'].value_counts()"
      ]
    },
    {
      "cell_type": "code",
      "execution_count": null,
      "metadata": {
        "id": "p6sBEq-wOtHN"
      },
      "outputs": [],
      "source": [
        "df['Touchscreen'] = df['ScreenResolution'].apply(\n",
        "    lambda x: 1 if 'Touchscreen' in x else 0)"
      ]
    },
    {
      "cell_type": "code",
      "execution_count": null,
      "metadata": {
        "id": "hR_bsE6aOzgK"
      },
      "outputs": [],
      "source": [
        "df.sample(5)"
      ]
    },
    {
      "cell_type": "code",
      "execution_count": null,
      "metadata": {
        "id": "xvO4sqCdO3fv"
      },
      "outputs": [],
      "source": [
        "df['Touchscreen'].value_counts().plot(kind='bar')"
      ]
    },
    {
      "cell_type": "code",
      "execution_count": null,
      "metadata": {
        "id": "qI8NRF-YPB2m"
      },
      "outputs": [],
      "source": [
        "sns.barplot(x=df['Touchscreen'], y=df['Price'])"
      ]
    },
    {
      "cell_type": "code",
      "execution_count": null,
      "metadata": {
        "id": "VNr77TWuPF0v"
      },
      "outputs": [],
      "source": [
        "df['Ips'] = df['ScreenResolution'].apply(lambda x: 1 if 'IPS' in x else 0)"
      ]
    },
    {
      "cell_type": "code",
      "execution_count": null,
      "metadata": {
        "id": "2UHKvTL0PMse"
      },
      "outputs": [],
      "source": [
        "df.sample(3)"
      ]
    },
    {
      "cell_type": "code",
      "execution_count": null,
      "metadata": {
        "id": "-NDU7Nx6PQi4"
      },
      "outputs": [],
      "source": [
        "sns.barplot(x=df['Ips'], y=df['Price'])"
      ]
    },
    {
      "cell_type": "code",
      "execution_count": null,
      "metadata": {
        "id": "C0ht6nN6PctR"
      },
      "outputs": [],
      "source": [
        "SplitResolution = df['ScreenResolution'].str.split('x', n=1, expand=True)"
      ]
    },
    {
      "cell_type": "code",
      "execution_count": null,
      "metadata": {
        "id": "yGUscXSkPpvw"
      },
      "outputs": [],
      "source": [
        "df['X_res'] = SplitResolution[0]\n",
        "df['Y_res'] = SplitResolution[1]"
      ]
    },
    {
      "cell_type": "code",
      "execution_count": null,
      "metadata": {
        "id": "IQrik-kQP1VG"
      },
      "outputs": [],
      "source": [
        "df.sample(4)"
      ]
    },
    {
      "cell_type": "code",
      "execution_count": null,
      "metadata": {
        "id": "wc7_gkySP4wZ"
      },
      "outputs": [],
      "source": [
        "df['X_res'] = df['X_res'].str.replace(',', '').str.findall(\n",
        "    r'(\\d+\\.?\\d+)').apply(lambda x: x[0])"
      ]
    },
    {
      "cell_type": "code",
      "execution_count": null,
      "metadata": {
        "id": "3bR9LnoJP9Wk"
      },
      "outputs": [],
      "source": [
        "df.head(3)"
      ]
    },
    {
      "cell_type": "code",
      "execution_count": null,
      "metadata": {
        "id": "YrP7usAiQIp0"
      },
      "outputs": [],
      "source": [
        "df.dtypes"
      ]
    },
    {
      "cell_type": "code",
      "execution_count": null,
      "metadata": {
        "id": "dw9soBhHQF7D"
      },
      "outputs": [],
      "source": [
        "df['X_res'] = df['X_res'].astype('int')\n",
        "df['Y_res'] = df['Y_res'].astype('int')"
      ]
    },
    {
      "cell_type": "code",
      "execution_count": null,
      "metadata": {
        "id": "rKTMBFmXQXNx"
      },
      "outputs": [],
      "source": [
        "df['Price'].dtypes"
      ]
    },
    {
      "cell_type": "code",
      "execution_count": null,
      "metadata": {
        "id": "Ihu4GNMKQdlk"
      },
      "outputs": [],
      "source": [
        "df.corr(numeric_only=True)['Price']"
      ]
    },
    {
      "cell_type": "code",
      "execution_count": null,
      "metadata": {
        "id": "-Fd7ltXZQiOs"
      },
      "outputs": [],
      "source": [
        "df['ppi'] = (((df['X_res']**2) + (df['Y_res']**2))\n",
        "             ** 0.5/df['Inches']).astype(float)"
      ]
    },
    {
      "cell_type": "code",
      "execution_count": null,
      "metadata": {
        "id": "Czhrgm5qQm66"
      },
      "outputs": [],
      "source": [
        "df.corr(numeric_only=True)['Price']"
      ]
    },
    {
      "cell_type": "code",
      "execution_count": null,
      "metadata": {
        "id": "CpNl7SGAQqlt"
      },
      "outputs": [],
      "source": [
        "df.drop(columns=['ScreenResolution'], inplace=True)"
      ]
    },
    {
      "cell_type": "code",
      "execution_count": null,
      "metadata": {
        "id": "pEZ-n4PmQwia"
      },
      "outputs": [],
      "source": [
        "df.drop(columns=['Inches', 'X_res', 'Y_res'], inplace=True)"
      ]
    },
    {
      "cell_type": "code",
      "execution_count": null,
      "metadata": {
        "id": "wNIiF05_Q1Pk"
      },
      "outputs": [],
      "source": [
        "df.head(3)"
      ]
    },
    {
      "cell_type": "code",
      "execution_count": null,
      "metadata": {
        "id": "aO6Dl3wSQ7KJ"
      },
      "outputs": [],
      "source": [
        "df['Cpu'].value_counts()"
      ]
    },
    {
      "cell_type": "code",
      "execution_count": null,
      "metadata": {
        "id": "HrrUuutSQ-d3"
      },
      "outputs": [],
      "source": [
        "df['Cpu Name'] = df['Cpu'].apply(lambda x:\" \".join(x.split()[0:3]))"
      ]
    },
    {
      "cell_type": "code",
      "execution_count": null,
      "metadata": {
        "id": "e6CIzagNRPFn"
      },
      "outputs": [],
      "source": [
        "df.sample(3)"
      ]
    },
    {
      "cell_type": "code",
      "execution_count": null,
      "metadata": {
        "id": "UDn9iCiORUzQ"
      },
      "outputs": [],
      "source": [
        "def fetch_processor(text):\n",
        "    if text == 'Intel Core i3' or text == 'Intel Core i5' or text == 'Intel Core i7':\n",
        "        return text\n",
        "    else:\n",
        "        if text.split()[0] == 'Intel':\n",
        "            return 'Other Intel Processor'\n",
        "        else:\n",
        "            return 'AMD Processor'"
      ]
    },
    {
      "cell_type": "code",
      "execution_count": null,
      "metadata": {
        "id": "B4pb0aS7RfZS"
      },
      "outputs": [],
      "source": [
        "df['Cpu Brand'] = df['Cpu Name'].apply(fetch_processor)"
      ]
    },
    {
      "cell_type": "code",
      "execution_count": null,
      "metadata": {
        "id": "4BekJlBHRmF2"
      },
      "outputs": [],
      "source": [
        "df.sample(5)"
      ]
    },
    {
      "cell_type": "code",
      "execution_count": null,
      "metadata": {
        "id": "cwWwk5KURoH9"
      },
      "outputs": [],
      "source": [
        "df['Cpu Brand'].value_counts().plot(kind='bar')"
      ]
    },
    {
      "cell_type": "code",
      "execution_count": null,
      "metadata": {
        "id": "lPZN5P6GRu_p"
      },
      "outputs": [],
      "source": [
        "sns.barplot(x=df['Cpu Brand'], y=df['Price'])\n",
        "plt.xticks(rotation=45)\n",
        "plt.show()"
      ]
    },
    {
      "cell_type": "code",
      "execution_count": null,
      "metadata": {
        "id": "9kupOAdjRz5P"
      },
      "outputs": [],
      "source": [
        "df.drop(columns=['Cpu', 'Cpu Name'], inplace=True)"
      ]
    },
    {
      "cell_type": "code",
      "execution_count": null,
      "metadata": {
        "id": "Bz0BayJQR40o"
      },
      "outputs": [],
      "source": [
        "df.head()"
      ]
    },
    {
      "cell_type": "code",
      "execution_count": null,
      "metadata": {
        "id": "sIO6MozwR7hp"
      },
      "outputs": [],
      "source": [
        "df['Ram'].value_counts().plot(kind='bar')"
      ]
    },
    {
      "cell_type": "code",
      "execution_count": null,
      "metadata": {
        "id": "gwfblKeoR-9E"
      },
      "outputs": [],
      "source": [
        "sns.barplot(x=df['Ram'], y=df['Price'])\n",
        "plt.xticks(rotation=45)\n",
        "plt.show()"
      ]
    },
    {
      "cell_type": "code",
      "execution_count": null,
      "metadata": {
        "id": "I8zgZrBISCdR"
      },
      "outputs": [],
      "source": [
        "df['Memory'].value_counts()"
      ]
    },
    {
      "cell_type": "code",
      "execution_count": null,
      "metadata": {
        "id": "IfLYowWJSHjI"
      },
      "outputs": [],
      "source": [
        "df['Memory'] = df['Memory'].astype(str).replace('\\.0', '', regex=True)\n",
        "df[\"Memory\"] = df[\"Memory\"].str.replace('GB', '')\n",
        "df[\"Memory\"] = df[\"Memory\"].str.replace('TB', '000')\n",
        "new = df[\"Memory\"].str.split(\"+\", n=1, expand=True)\n",
        "df[\"first\"] = new[0]\n",
        "df[\"first\"] = df[\"first\"].str.strip()\n",
        "df[\"Layer1HDD\"] = df[\"first\"].apply(lambda x: 1 if \"HDD\" in str(x) else 0)\n",
        "df[\"Layer1SSD\"] = df[\"first\"].apply(lambda x: 1 if \"SSD\" in str(x) else 0)\n",
        "df[\"Layer1Hybrid\"] = df[\"first\"].apply(\n",
        "    lambda x: 1 if \"Hybrid\" in str(x) else 0)\n",
        "df[\"Layer1Flash_Storage\"] = df[\"first\"].apply(\n",
        "    lambda x: 1 if \"Flash Storage\" in str(x) else 0)\n",
        "df['first'] = df['first'].str.extract('(\\d+)').astype(float)\n",
        "df[\"second\"] = new[1]\n",
        "df[\"second\"].fillna(\"0\", inplace=True)\n",
        "df[\"Layer2HDD\"] = df[\"second\"].apply(lambda x: 1 if \"HDD\" in str(x) else 0)\n",
        "df[\"Layer2SSD\"] = df[\"second\"].apply(lambda x: 1 if \"SSD\" in str(x) else 0)\n",
        "df[\"Layer2Hybrid\"] = df[\"second\"].apply(\n",
        "    lambda x: 1 if \"Hybrid\" in str(x) else 0)\n",
        "df[\"Layer2Flash_Storage\"] = df[\"second\"].apply(\n",
        "    lambda x: 1 if \"Flash Storage\" in str(x) else 0)\n",
        "df['second'] = df['second'].str.extract('(\\d+)').astype(float)\n",
        "df[\"HDD\"] = (df[\"first\"] * df[\"Layer1HDD\"] +\n",
        "             df[\"second\"] * df[\"Layer2HDD\"]).astype(int)\n",
        "df[\"SSD\"] = (df[\"first\"] * df[\"Layer1SSD\"] +\n",
        "             df[\"second\"] * df[\"Layer2SSD\"]).astype(int)\n",
        "df[\"Hybrid\"] = (df[\"first\"] * df[\"Layer1Hybrid\"] +\n",
        "                df[\"second\"] * df[\"Layer2Hybrid\"]).astype(int)\n",
        "df[\"Flash_Storage\"] = (df[\"first\"] * df[\"Layer1Flash_Storage\"] +\n",
        "                       df[\"second\"] * df[\"Layer2Flash_Storage\"]).astype(int)\n",
        "df.drop(columns=['first', 'second',\n",
        "                 'Layer1HDD', 'Layer1SSD', 'Layer1Hybrid', 'Layer1Flash_Storage',\n",
        "                 'Layer2HDD', 'Layer2SSD', 'Layer2Hybrid', 'Layer2Flash_Storage'], inplace=True)"
      ]
    },
    {
      "cell_type": "code",
      "execution_count": null,
      "metadata": {
        "id": "WxvSnmXfScVY"
      },
      "outputs": [],
      "source": [
        "df.sample(5)"
      ]
    },
    {
      "cell_type": "code",
      "execution_count": null,
      "metadata": {
        "id": "Y3-KsgIbSeUD"
      },
      "outputs": [],
      "source": [
        "df.drop(columns=['Memory'], inplace=True)"
      ]
    },
    {
      "cell_type": "code",
      "execution_count": null,
      "metadata": {
        "id": "YHEzYAgCTNRU"
      },
      "outputs": [],
      "source": [
        "df.head()"
      ]
    },
    {
      "cell_type": "code",
      "execution_count": null,
      "metadata": {
        "id": "yH8Un7yrTRba"
      },
      "outputs": [],
      "source": [
        "df.corr(numeric_only=True)['Price']"
      ]
    },
    {
      "cell_type": "code",
      "execution_count": null,
      "metadata": {
        "id": "hW8VpZ3xTWkB"
      },
      "outputs": [],
      "source": [
        "df.drop(columns=['Hybrid', 'Flash_Storage'], inplace=True)"
      ]
    },
    {
      "cell_type": "code",
      "execution_count": null,
      "metadata": {
        "id": "YNjRROlpTboH"
      },
      "outputs": [],
      "source": [
        "df.sample(3)"
      ]
    },
    {
      "cell_type": "code",
      "execution_count": null,
      "metadata": {
        "id": "gsSU-k2jTfW-"
      },
      "outputs": [],
      "source": [
        "df['Gpu'].value_counts()"
      ]
    },
    {
      "cell_type": "code",
      "execution_count": null,
      "metadata": {
        "id": "lDgK9DGuTjgJ"
      },
      "outputs": [],
      "source": [
        "df['GpuBrand'] = df['Gpu'].apply(lambda x: x.split()[0])"
      ]
    },
    {
      "cell_type": "code",
      "execution_count": null,
      "metadata": {
        "id": "174ftdlWTpFG"
      },
      "outputs": [],
      "source": [
        "df.sample(5)"
      ]
    },
    {
      "cell_type": "code",
      "execution_count": null,
      "metadata": {
        "id": "K3q7qB2QTs2B"
      },
      "outputs": [],
      "source": [
        "df['GpuBrand'].value_counts()"
      ]
    },
    {
      "cell_type": "code",
      "execution_count": null,
      "metadata": {
        "id": "bUENUFKvTxfw"
      },
      "outputs": [],
      "source": [
        "df = df[df['GpuBrand'] != 'ARM']"
      ]
    },
    {
      "cell_type": "code",
      "execution_count": null,
      "metadata": {
        "id": "BQTkQAf-T2FG"
      },
      "outputs": [],
      "source": [
        "df['GpuBrand'].value_counts()"
      ]
    },
    {
      "cell_type": "code",
      "execution_count": null,
      "metadata": {
        "id": "ARCavmhET7v5"
      },
      "outputs": [],
      "source": [
        "sns.barplot(x=df['GpuBrand'], y=df['Price'])\n",
        "plt.xticks(rotation=45)\n",
        "plt.show()"
      ]
    },
    {
      "cell_type": "code",
      "execution_count": null,
      "metadata": {
        "id": "-BcMGQNIUAHE"
      },
      "outputs": [],
      "source": [
        "df.drop(columns=['Gpu'], inplace=True)"
      ]
    },
    {
      "cell_type": "code",
      "execution_count": null,
      "metadata": {
        "id": "ujoqJJ2oUhQW"
      },
      "outputs": [],
      "source": [
        "df.sample(4)"
      ]
    },
    {
      "cell_type": "code",
      "execution_count": null,
      "metadata": {
        "id": "uxwL7nHdUm9g"
      },
      "outputs": [],
      "source": [
        "df['OpSys'].value_counts()"
      ]
    },
    {
      "cell_type": "code",
      "execution_count": null,
      "metadata": {
        "id": "abZirIK4Uq-2"
      },
      "outputs": [],
      "source": [
        "sns.barplot(x=df['OpSys'], y=df['Price'])\n",
        "plt.xticks(rotation=45)\n",
        "plt.show()"
      ]
    },
    {
      "cell_type": "code",
      "execution_count": null,
      "metadata": {
        "id": "oO6_FmECUu_L"
      },
      "outputs": [],
      "source": [
        "def categorizeOS(op):\n",
        "    if op == 'Windows 10' or op == 'Windows 7' or op == 'Windows 10 S':\n",
        "        return 'Windows'\n",
        "    elif op == 'macOS' or op == 'Mac OS X':\n",
        "        return 'Mac'\n",
        "    else:\n",
        "        return 'Linux/ChromeOS/Others'"
      ]
    },
    {
      "cell_type": "code",
      "execution_count": null,
      "metadata": {
        "id": "tmOZ1M3vUy4l"
      },
      "outputs": [],
      "source": [
        "df['os'] = df['OpSys'].apply(categorizeOS)"
      ]
    },
    {
      "cell_type": "code",
      "execution_count": null,
      "metadata": {
        "id": "NL-Hpuv4U2t1"
      },
      "outputs": [],
      "source": [
        "df.sample()"
      ]
    },
    {
      "cell_type": "code",
      "execution_count": null,
      "metadata": {
        "id": "wVMZLXC0U4Rs"
      },
      "outputs": [],
      "source": [
        "df.drop(columns=['OpSys'], inplace=True)"
      ]
    },
    {
      "cell_type": "code",
      "execution_count": null,
      "metadata": {
        "id": "8V61Bhq0VArP"
      },
      "outputs": [],
      "source": [
        "df.head()"
      ]
    },
    {
      "cell_type": "code",
      "execution_count": null,
      "metadata": {
        "id": "kxKJT4fDVCDD"
      },
      "outputs": [],
      "source": [
        "sns.barplot(x=df['os'], y=df['Price'])\n",
        "plt.xticks(rotation=45)\n",
        "plt.show()"
      ]
    },
    {
      "cell_type": "code",
      "execution_count": null,
      "metadata": {
        "id": "v7zQ9Ae_VHJp"
      },
      "outputs": [],
      "source": [
        "sns.histplot(df['Weight'], kde=True, stat='density')"
      ]
    },
    {
      "cell_type": "code",
      "execution_count": null,
      "metadata": {
        "id": "rb3HlPXGVMep"
      },
      "outputs": [],
      "source": [
        "sns.scatterplot(x=df['Weight'], y=df['Price'])"
      ]
    },
    {
      "cell_type": "code",
      "execution_count": null,
      "metadata": {
        "id": "Wd96ue73VQ5d"
      },
      "outputs": [],
      "source": [
        "df.corr(numeric_only=True)"
      ]
    },
    {
      "cell_type": "code",
      "execution_count": null,
      "metadata": {
        "id": "rhk6IODFVVDq"
      },
      "outputs": [],
      "source": [
        "sns.heatmap(df.corr(numeric_only=True))"
      ]
    },
    {
      "cell_type": "code",
      "execution_count": null,
      "metadata": {
        "id": "RvcZQH5-VZiZ"
      },
      "outputs": [],
      "source": [
        "sns.histplot(np.log(df['Price']), kde=True, stat='density')"
      ]
    },
    {
      "cell_type": "code",
      "execution_count": null,
      "metadata": {
        "id": "bCPEn4XQVdTD"
      },
      "outputs": [],
      "source": [
        "x = df.drop(columns=['Price'])\n",
        "y = np.log(df['Price'])"
      ]
    },
    {
      "cell_type": "code",
      "execution_count": null,
      "metadata": {
        "id": "LaE8ZzTOVh8l"
      },
      "outputs": [],
      "source": [
        "df.sample()"
      ]
    },
    {
      "cell_type": "code",
      "execution_count": null,
      "metadata": {
        "id": "Xt5-9GL2Vjjs"
      },
      "outputs": [],
      "source": [
        "from sklearn.model_selection import train_test_split\n",
        "X_train, X_test, y_train, y_test = train_test_split(\n",
        "    x, y, test_size=0.15, random_state=2)"
      ]
    },
    {
      "cell_type": "code",
      "execution_count": null,
      "metadata": {
        "id": "QAtujvBeVqce"
      },
      "outputs": [],
      "source": [
        "X_train"
      ]
    },
    {
      "cell_type": "code",
      "execution_count": null,
      "metadata": {
        "id": "e2MMW0RIVuBp"
      },
      "outputs": [],
      "source": [
        "from sklearn.compose import ColumnTransformer\n",
        "from sklearn.pipeline import Pipeline\n",
        "from sklearn.preprocessing import OneHotEncoder, StandardScaler\n",
        "from sklearn.metrics import r2_score, mean_absolute_error\n",
        "from sklearn.model_selection import GridSearchCV"
      ]
    },
    {
      "cell_type": "code",
      "execution_count": null,
      "metadata": {
        "id": "mLPOkOkOV0RC"
      },
      "outputs": [],
      "source": [
        "from sklearn.linear_model import LinearRegression, Ridge, Lasso\n",
        "from sklearn.neighbors import KNeighborsRegressor\n",
        "from sklearn.tree import DecisionTreeRegressor\n",
        "from sklearn.ensemble import RandomForestRegressor, GradientBoostingRegressor, AdaBoostRegressor, ExtraTreesRegressor, VotingRegressor, StackingRegressor\n",
        "from sklearn.svm import SVR\n",
        "from xgboost import XGBRegressor"
      ]
    },
    {
      "cell_type": "code",
      "execution_count": null,
      "metadata": {
        "id": "0AxjpV1pV31U"
      },
      "outputs": [],
      "source": [
        "transformers = [\n",
        "    ('col_tnf', OneHotEncoder(\n",
        "        sparse_output=False, drop='first'), [0, 1, 7, 10, 11])\n",
        "]"
      ]
    },
    {
      "cell_type": "code",
      "execution_count": null,
      "metadata": {
        "id": "z41ZPTVGV8_O"
      },
      "outputs": [],
      "source": [
        "step1 = ColumnTransformer(transformers=transformers, remainder='passthrough')\n",
        "step2 = LinearRegression()\n",
        "pipe = Pipeline([\n",
        "    ('step1', step1),\n",
        "    ('step2', step2),\n",
        "])\n",
        "pipe.fit(X_train, y_train)\n",
        "y_pred = pipe.predict(X_test)\n",
        "r2 = r2_score(y_test, y_pred)\n",
        "mae = mean_absolute_error(y_test, y_pred)\n",
        "\n",
        "print('R2 Score:', r2)\n",
        "print('Mean Absolute Error:', mae)"
      ]
    },
    {
      "cell_type": "code",
      "execution_count": null,
      "metadata": {
        "id": "kPllJ9bLdNpu"
      },
      "outputs": [],
      "source": [
        "step1 = ColumnTransformer(transformers=transformers, remainder='passthrough')\n",
        "step2 = Ridge(alpha=10)\n",
        "\n",
        "pipe = Pipeline([\n",
        "    ('step1', step1),\n",
        "    ('step2', step2),\n",
        "])\n",
        "\n",
        "pipe.fit(X_train, y_train)\n",
        "\n",
        "y_pred = pipe.predict(X_test)\n",
        "\n",
        "r2 = r2_score(y_test, y_pred)\n",
        "mae = mean_absolute_error(y_test, y_pred)\n",
        "\n",
        "print('R2 Score:', r2)\n",
        "print('Mean Absolute Error:', mae)"
      ]
    },
    {
      "cell_type": "code",
      "execution_count": null,
      "metadata": {
        "id": "_73vyVRadcpK"
      },
      "outputs": [],
      "source": [
        "step1 = ColumnTransformer(transformers=transformers, remainder='passthrough')\n",
        "step2 = Lasso(alpha=0.001)\n",
        "\n",
        "pipe = Pipeline([\n",
        "    ('step1', step1),\n",
        "    ('step2', step2),\n",
        "])\n",
        "\n",
        "pipe.fit(X_train, y_train)\n",
        "\n",
        "y_pred = pipe.predict(X_test)\n",
        "\n",
        "r2 = r2_score(y_test, y_pred)\n",
        "mae = mean_absolute_error(y_test, y_pred)\n",
        "\n",
        "print('R2 Score:', r2)\n",
        "print('Mean Absolute Error:', mae)"
      ]
    },
    {
      "cell_type": "code",
      "execution_count": null,
      "metadata": {
        "id": "bppX4sVZdi3J"
      },
      "outputs": [],
      "source": [
        "step1 = ColumnTransformer(transformers=transformers, remainder='passthrough')\n",
        "step2 = KNeighborsRegressor(n_neighbors=3)\n",
        "\n",
        "pipe = Pipeline([\n",
        "    ('step1', step1),\n",
        "    ('step2', step2),\n",
        "])\n",
        "\n",
        "pipe.fit(X_train, y_train)\n",
        "\n",
        "y_pred = pipe.predict(X_test)\n",
        "\n",
        "r2 = r2_score(y_test, y_pred)\n",
        "mae = mean_absolute_error(y_test, y_pred)\n",
        "\n",
        "print('R2 Score:', r2)\n",
        "print('Mean Absolute Error:', mae)"
      ]
    },
    {
      "cell_type": "code",
      "execution_count": null,
      "metadata": {
        "id": "vpuQRJu6dp8u"
      },
      "outputs": [],
      "source": [
        "step1 = ColumnTransformer(transformers=transformers, remainder='passthrough')\n",
        "\n",
        "# Create a Decision Tree Regressor model\n",
        "step2 = DecisionTreeRegressor(max_depth=8)\n",
        "\n",
        "pipe = Pipeline([\n",
        "    ('step1', step1),\n",
        "    ('step2', step2),\n",
        "])\n",
        "\n",
        "pipe.fit(X_train, y_train)\n",
        "\n",
        "y_pred = pipe.predict(X_test)\n",
        "\n",
        "r2 = r2_score(y_test, y_pred)\n",
        "mae = mean_absolute_error(y_test, y_pred)\n",
        "\n",
        "print('R2 Score:', r2)\n",
        "print('Mean Absolute Error:', mae)"
      ]
    },
    {
      "cell_type": "code",
      "execution_count": null,
      "metadata": {
        "id": "GSmVDADbdwlU"
      },
      "outputs": [],
      "source": [
        "step1 = ColumnTransformer(transformers=transformers, remainder='passthrough')\n",
        "\n",
        "# Create a SVM model\n",
        "step2 = SVR(kernel='rbf', C=10000, epsilon=0.1)\n",
        "\n",
        "pipe = Pipeline([\n",
        "    ('step1', step1),\n",
        "    ('step2', step2),\n",
        "])\n",
        "\n",
        "pipe.fit(X_train, y_train)\n",
        "\n",
        "y_pred = pipe.predict(X_test)\n",
        "\n",
        "r2 = r2_score(y_test, y_pred)\n",
        "mae = mean_absolute_error(y_test, y_pred)\n",
        "\n",
        "print('R2 Score:', r2)\n",
        "print('Mean Absolute Error:', mae)"
      ]
    },
    {
      "cell_type": "code",
      "execution_count": null,
      "metadata": {
        "id": "tXZpytDcd0ze"
      },
      "outputs": [],
      "source": [
        "step1 = ColumnTransformer(transformers=transformers, remainder='passthrough')\n",
        "\n",
        "# Create a Random Forest Regressor model\n",
        "step2 = RandomForestRegressor(n_estimators=100,\n",
        "                              random_state=3,\n",
        "                              max_samples=0.5,\n",
        "                              max_features=0.75,\n",
        "                              max_depth=15)\n",
        "\n",
        "pipe = Pipeline([\n",
        "    ('step1', step1),\n",
        "    ('step2', step2),\n",
        "])\n",
        "\n",
        "pipe.fit(X_train, y_train)\n",
        "\n",
        "y_pred = pipe.predict(X_test)\n",
        "\n",
        "r2 = r2_score(y_test, y_pred)\n",
        "mae = mean_absolute_error(y_test, y_pred)\n",
        "\n",
        "print('R2 Score:', r2)\n",
        "print('Mean Absolute Error:', mae)"
      ]
    },
    {
      "cell_type": "code",
      "execution_count": null,
      "metadata": {
        "id": "gQEPplFId65R"
      },
      "outputs": [],
      "source": [
        "step1 = ColumnTransformer(transformers=transformers, remainder='passthrough')\n",
        "\n",
        "# Create a ExtraTrees Regressor model\n",
        "step2 = ExtraTreesRegressor(n_estimators=100,\n",
        "                            random_state=3,\n",
        "                            max_samples=0.5,\n",
        "                            max_features=0.75,\n",
        "                            max_depth=15,\n",
        "                            bootstrap=True)\n",
        "\n",
        "pipe = Pipeline([\n",
        "    ('step1', step1),\n",
        "    ('step2', step2),\n",
        "])\n",
        "\n",
        "pipe.fit(X_train, y_train)\n",
        "\n",
        "y_pred = pipe.predict(X_test)\n",
        "\n",
        "r2 = r2_score(y_test, y_pred)\n",
        "mae = mean_absolute_error(y_test, y_pred)\n",
        "\n",
        "print('R2 Score:', r2)\n",
        "print('Mean Absolute Error:', mae)"
      ]
    },
    {
      "cell_type": "code",
      "execution_count": null,
      "metadata": {
        "id": "S1v69Btod_i1"
      },
      "outputs": [],
      "source": [
        "step1 = ColumnTransformer(transformers=transformers, remainder='passthrough')\n",
        "\n",
        "# Create a AdaBoost Regressor model\n",
        "step2 = AdaBoostRegressor(n_estimators=15, learning_rate=1.0)\n",
        "\n",
        "pipe = Pipeline([\n",
        "    ('step1', step1),\n",
        "    ('step2', step2),\n",
        "])\n",
        "\n",
        "pipe.fit(X_train, y_train)\n",
        "\n",
        "y_pred = pipe.predict(X_test)\n",
        "\n",
        "r2 = r2_score(y_test, y_pred)\n",
        "mae = mean_absolute_error(y_test, y_pred)\n",
        "\n",
        "print('R2 Score:', r2)\n",
        "print('Mean Absolute Error:', mae)"
      ]
    },
    {
      "cell_type": "code",
      "execution_count": null,
      "metadata": {
        "id": "d9hyK9eTeEt-"
      },
      "outputs": [],
      "source": [
        "step1 = ColumnTransformer(transformers=transformers, remainder='passthrough')\n",
        "\n",
        "# Create a AdaBoost Regressor model\n",
        "step2 = GradientBoostingRegressor(n_estimators=500)\n",
        "\n",
        "pipe = Pipeline([\n",
        "    ('step1', step1),\n",
        "    ('step2', step2),\n",
        "])\n",
        "\n",
        "pipe.fit(X_train, y_train)\n",
        "\n",
        "y_pred = pipe.predict(X_test)\n",
        "\n",
        "r2 = r2_score(y_test, y_pred)\n",
        "mae = mean_absolute_error(y_test, y_pred)\n",
        "\n",
        "print('R2 Score:', r2)\n",
        "print('Mean Absolute Error:', mae)"
      ]
    },
    {
      "cell_type": "code",
      "execution_count": null,
      "metadata": {
        "id": "6Q8omRGweJYh"
      },
      "outputs": [],
      "source": [
        "step1 = ColumnTransformer(transformers=transformers, remainder='passthrough')\n",
        "\n",
        "# Create a XGB Regressor model\n",
        "step2 = XGBRegressor(n_estimators=45, max_depth=5, learning_rate=0.5)\n",
        "\n",
        "pipe = Pipeline([\n",
        "    ('step1', step1),\n",
        "    ('step2', step2),\n",
        "])\n",
        "\n",
        "pipe.fit(X_train, y_train)\n",
        "\n",
        "y_pred = pipe.predict(X_test)\n",
        "\n",
        "r2 = r2_score(y_test, y_pred)\n",
        "mae = mean_absolute_error(y_test, y_pred)\n",
        "\n",
        "print('R2 Score:', r2)\n",
        "print('Mean Absolute Error:', mae)"
      ]
    },
    {
      "cell_type": "code",
      "execution_count": null,
      "metadata": {
        "id": "_vA0u58xeN8Y"
      },
      "outputs": [],
      "source": [
        "step1 = ColumnTransformer(transformers=transformers, remainder='passthrough')\n",
        "\n",
        "# Define individual regression models\n",
        "rf = RandomForestRegressor(n_estimators=350, random_state=3,\n",
        "                           max_samples=0.5, max_features=0.75, max_depth=15)\n",
        "gbdt = GradientBoostingRegressor(n_estimators=100, max_features=0.5)\n",
        "xgb = XGBRegressor(n_estimators=25, learning_rate=0.3, max_depth=5)\n",
        "et = ExtraTreesRegressor(n_estimators=100, random_state=3,\n",
        "                         max_samples=0.5, max_features=0.75, max_depth=10, bootstrap=True)\n",
        "\n",
        "# Create a Voting Regressor model that combines the individual models\n",
        "# Adjusting weights for individual models in the ensemble to control their influence on the final prediction.\n",
        "step2 = VotingRegressor(\n",
        "    [('rf', rf), ('gbdt', gbdt), ('xgb', xgb), ('et', et)], weights=[5, 1, 1, 1])\n",
        "\n",
        "pipe = Pipeline([\n",
        "    ('step1', step1),\n",
        "    ('step2', step2),\n",
        "])\n",
        "\n",
        "pipe.fit(X_train, y_train)\n",
        "\n",
        "y_pred = pipe.predict(X_test)\n",
        "\n",
        "r2 = r2_score(y_test, y_pred)\n",
        "mae = mean_absolute_error(y_test, y_pred)\n",
        "\n",
        "print('R2 Score:', r2)\n",
        "print('Mean Absolute Error:', mae)"
      ]
    },
    {
      "cell_type": "code",
      "execution_count": null,
      "metadata": {
        "id": "QD-5o3UpeT1X"
      },
      "outputs": [],
      "source": [
        "step1 = ColumnTransformer(transformers=transformers, remainder='passthrough')\n",
        "\n",
        "# Define individual regression models\n",
        "rf = RandomForestRegressor(n_estimators=350, random_state=3,\n",
        "                           max_samples=0.5, max_features=0.75, max_depth=15)\n",
        "gbdt = GradientBoostingRegressor(n_estimators=100, max_features=0.5)\n",
        "xgb = XGBRegressor(n_estimators=25, learning_rate=0.3, max_depth=5)\n",
        "\n",
        "# Create a Stacking Regressor model that combines the individual models\n",
        "step2 = StackingRegressor(\n",
        "    [('rf', rf), ('gbdt', gbdt), ('xgb', xgb)], final_estimator=Ridge(alpha=100))\n",
        "\n",
        "pipe = Pipeline([\n",
        "    ('step1', step1),\n",
        "    ('step2', step2),\n",
        "])\n",
        "\n",
        "pipe.fit(X_train, y_train)\n",
        "\n",
        "y_pred = pipe.predict(X_test)\n",
        "\n",
        "r2 = r2_score(y_test, y_pred)\n",
        "mae = mean_absolute_error(y_test, y_pred)\n",
        "\n",
        "print('R2 Score:', r2)\n",
        "print('Mean Absolute Error:', mae)"
      ]
    },
    {
      "cell_type": "code",
      "execution_count": null,
      "metadata": {
        "id": "sAAY70wOeZp5"
      },
      "outputs": [],
      "source": [
        "df"
      ]
    },
    {
      "cell_type": "code",
      "execution_count": null,
      "metadata": {
        "id": "lxIA-8UIegKa"
      },
      "outputs": [],
      "source": [
        "X_train"
      ]
    },
    {
      "cell_type": "code",
      "execution_count": null,
      "metadata": {
        "id": "cVkJumh2ekJ-"
      },
      "outputs": [],
      "source": [
        "import pickle\n",
        "\n",
        "# Export the model\n",
        "pickle.dump(df,open('laptop_data.pkl','wb'))\n",
        "pickle.dump(pipe,open('pipe_object.pkl','wb'))"
      ]
    },
    {
      "cell_type": "code",
      "execution_count": null,
      "metadata": {
        "id": "KzHnK0ByepEC"
      },
      "outputs": [],
      "source": [
        "transformers = [\n",
        "    ('col_tnf', OneHotEncoder(sparse_output=False, drop='first'), [0, 1, 7, 10, 11])\n",
        "]\n",
        "\n",
        "step1 = ColumnTransformer(transformers=transformers, remainder='passthrough')\n",
        "\n",
        "step2 = RandomForestRegressor()\n",
        "\n",
        "pipe = Pipeline([\n",
        "    ('step1', step1),\n",
        "    ('step2', step2),\n",
        "])\n",
        "\n",
        "param_grid = {\n",
        "    'step2__n_estimators': [100, 200, 300],\n",
        "    'step2__max_depth': [10, 15, 20],\n",
        "    'step2__max_features': [0.6, 0.7, 0.8],\n",
        "}\n",
        "\n",
        "grid_search = GridSearchCV(pipe, param_grid, cv=5, scoring='r2', n_jobs=-1)\n",
        "\n",
        "grid_search.fit(X_train, y_train)\n",
        "\n",
        "best_params = grid_search.best_params_\n",
        "best_estimator = grid_search.best_estimator_\n",
        "\n",
        "y_pred = best_estimator.predict(X_test)\n",
        "\n",
        "r2 = r2_score(y_test, y_pred)\n",
        "mae = mean_absolute_error(y_test, y_pred)\n",
        "\n",
        "print('Best Parameters:', best_params)\n",
        "print('R2 Score:', round(r2, 2), '(', round(r2 * 100, 2), '%)')\n",
        "print('Mean Absolute Error:', round(mae, 2), '(', round(mae * 100, 2), '%)')"
      ]
    },
    {
      "cell_type": "code",
      "execution_count": null,
      "metadata": {
        "id": "4hM3yHe4e1NI"
      },
      "outputs": [],
      "source": [
        "from sklearn.model_selection import RandomizedSearchCV\n",
        "\n",
        "transformers = [\n",
        "    ('col_tnf', OneHotEncoder(sparse_output=False, drop='first'), [0, 1, 7, 10, 11]),\n",
        "]\n",
        "\n",
        "step1 = ColumnTransformer(transformers=transformers, remainder='passthrough')\n",
        "\n",
        "# Create an ensemble of models\n",
        "rf = RandomForestRegressor()\n",
        "gb = GradientBoostingRegressor()\n",
        "\n",
        "# Create a VotingRegressor model\n",
        "voting = VotingRegressor(\n",
        "    estimators=[('rf', rf), ('gb', gb)],\n",
        "    weights=[1, 1]\n",
        ")\n",
        "\n",
        "# Create a Pipeline that applies the ColumnTransformer and then the VotingRegressor model\n",
        "pipe = Pipeline([\n",
        "    ('step1', step1),\n",
        "    ('scaler', StandardScaler()),\n",
        "    ('voting', voting)\n",
        "])\n",
        "\n",
        "# Parameter grid for hyperparameter tuning\n",
        "param_dist = {\n",
        "    'voting__rf__n_estimators': [100, 200, 300],\n",
        "    'voting__rf__max_depth': [10, 15, 20],\n",
        "    'voting__rf__max_features': [0.6, 0.7, 0.8],\n",
        "    'voting__gb__n_estimators': [100, 200, 300],\n",
        "    'voting__gb__max_depth': [3, 4, 5],\n",
        "}\n",
        "random_search = RandomizedSearchCV(pipe, param_distributions=param_dist, n_iter=10, cv=5, scoring='r2', n_jobs=-1)\n",
        "\n",
        "random_search.fit(X_train, y_train)\n",
        "\n",
        "best_params = random_search.best_params_\n",
        "best_estimator = random_search.best_estimator_\n",
        "\n",
        "y_pred = best_estimator.predict(X_test)\n",
        "\n",
        "r2 = r2_score(y_test, y_pred)\n",
        "mae = mean_absolute_error(y_test, y_pred)\n",
        "\n",
        "print('Best Parameters:', best_params)\n",
        "print('R2 Score:', round(r2, 2), '(', round(r2 * 100, 2), '%)')\n",
        "print('Mean Absolute Error:', round(mae, 2), '(', round(mae * 100, 2), '%)')"
      ]
    },
    {
      "cell_type": "code",
      "execution_count": null,
      "metadata": {
        "id": "c0MV6s5vfK4N"
      },
      "outputs": [],
      "source": [
        "import pickle\n",
        "\n",
        "pickle.dump(df,open('laptop_data.pkl','wb'))\n",
        "\n",
        "# Export the tuned model\n",
        "with open('pipe_object.pkl', 'wb') as model_file:\n",
        "    pickle.dump(best_estimator, model_file)"
      ]
    },
    {
      "cell_type": "code",
      "execution_count": null,
      "metadata": {
        "id": "xOuMhQN5fdzh"
      },
      "outputs": [],
      "source": [
        "!pip install streamlit\n",
        "import pickle\n",
        "import numpy as np"
      ]
    },
    {
      "cell_type": "code",
      "execution_count": null,
      "metadata": {
        "id": "GgEHVLORffjT"
      },
      "outputs": [],
      "source": [
        "import streamlit as st"
      ]
    },
    {
      "cell_type": "code",
      "execution_count": null,
      "metadata": {
        "id": "_T01IDw_fzlX"
      },
      "outputs": [],
      "source": [
        "pipe = pickle.load(open('/content/pipe_object.pkl', 'rb'))\n",
        "df = pickle.load(open('/content/laptop_data.pkl', 'rb'))\n",
        "st.title('Laptop Price Prediction')"
      ]
    },
    {
      "cell_type": "code",
      "execution_count": null,
      "metadata": {
        "id": "cuu_uVBBf5ET"
      },
      "outputs": [],
      "source": [
        "left_column, right_column = st.columns(2)"
      ]
    },
    {
      "cell_type": "code",
      "execution_count": null,
      "metadata": {
        "id": "NMD60cPdh_VH"
      },
      "outputs": [],
      "source": [
        "%%writefile app.py\n",
        "import streamlit as st\n",
        "import pickle\n",
        "import numpy as np\n",
        "\n",
        "pipe = pickle.load(open('/content/pipe_object.pkl', 'rb'))\n",
        "df = pickle.load(open('/content/laptop_data.pkl', 'rb'))\n",
        "st.title('Laptop Price Prediction')\n",
        "\n",
        "# Creating two column layout\n",
        "left_column, right_column = st.columns(2)\n",
        "\n",
        "# Left Column\n",
        "with left_column:\n",
        "    st.subheader(\"Basic Laptop Info\")\n",
        "    # Company Brand\n",
        "    company = st.selectbox('Brand', df['Company'].unique())\n",
        "\n",
        "    # Laptop Type\n",
        "    type = st.selectbox('Type', df['TypeName'].unique())\n",
        "\n",
        "    # RAM\n",
        "    ram = st.selectbox('RAM(in GB)', [4, 6, 8, 12, 16, 24, 32, 64], index=2)\n",
        "\n",
        "    # Weight\n",
        "    weight = st.number_input('Weight of the Laptop(in Kg)', min_value=1.0, max_value=2.8, value=1.8, step=0.1)\n",
        "\n",
        "# Right Column\n",
        "with right_column:\n",
        "    st.subheader(\"Advanced Laptop Info\")\n",
        "\n",
        "    # Create a two-column layout\n",
        "    left_advanced, right_advanced = st.columns(2)\n",
        "\n",
        "    with left_advanced:\n",
        "        # TouchScreen\n",
        "        touchscreen = st.selectbox('TouchScreen', ['No', 'Yes'])\n",
        "\n",
        "        # Display\n",
        "        ips = st.selectbox('IPS', ['Yes', 'No'])\n",
        "\n",
        "        # Screen Size\n",
        "        screen_size = st.selectbox('Screen Size (in Inch)', [13.3, 15.6, 17.3])\n",
        "\n",
        "        # Resolution\n",
        "        resolution = st.selectbox('Screen Resolution', ['1920 x 1080', '1366 x 768', '1600 x 900',\n",
        "                                                        '3840 x 2160', '3200 x 1800', '2880 x 1800',\n",
        "                                                        '2560 x 1600', '2560 x 1440', '2304 x 1440'])\n",
        "\n",
        "        # OS\n",
        "        os = st.selectbox('OS', df['os'].unique())\n",
        "\n",
        "    with right_advanced:\n",
        "        # CPU\n",
        "        cpu = st.selectbox('CPU', df['Cpu Brand'].unique())\n",
        "\n",
        "        # GPU\n",
        "        gpu = st.selectbox('GPU', df['GpuBrand'].unique())\n",
        "\n",
        "        # HDD\n",
        "        hdd = st.selectbox('HDD(in GB)', [0, 256, 512, 1024, 2048])\n",
        "\n",
        "        # SSD\n",
        "        ssd = st.selectbox('SSD(in GB)', [0, 128, 256, 512, 1024])\n",
        "\n",
        "if st.button('Predict Price'):\n",
        "    # Preprocess input features\n",
        "    touchscreen = int(touchscreen == 'Yes')\n",
        "    ips = int(ips == 'Yes')\n",
        "    X_res, Y_res = map(int, resolution.split('x'))\n",
        "    ppi = ((X_res**2 + Y_res**2)**0.5) / screen_size\n",
        "\n",
        "    # Create query array and make the prediction\n",
        "    query = np.array([company, type, ram, weight, touchscreen, ips, ppi, cpu, hdd, ssd, gpu, os]).reshape(1, -1)\n",
        "    predicted_price = int(np.exp(pipe.predict(query)[0]))\n",
        "\n",
        "    # Display the result\n",
        "    st.title(f\"\\nPrice: {round(predicted_price * 0.012, 2)} USD\")\n",
        "\n",
        "# Note\n",
        "st.write(\"\"\"\n",
        "<span style=\"color:green\">Please note the dataset was collected from Amazon in 2017-18.<br>\n",
        "Furthermore, only 1301 samples were collected, so the price may be inaccurate.</span>\n",
        "\"\"\", unsafe_allow_html=True)"
      ]
    },
    {
      "cell_type": "code",
      "execution_count": null,
      "metadata": {
        "id": "sn80RuB_iIOR"
      },
      "outputs": [],
      "source": [
        "!npm install -g localtunnel"
      ]
    },
    {
      "cell_type": "code",
      "execution_count": null,
      "metadata": {
        "colab": {
          "background_save": true,
          "base_uri": "https://localhost:8080/"
        },
        "id": "pJB4hUW_kBIN",
        "outputId": "093d97dc-4de1-4a39-f8f6-7b9d6d4f00d4"
      },
      "outputs": [
        {
          "name": "stdout",
          "output_type": "stream",
          "text": [
            "\n",
            "Collecting usage statistics. To deactivate, set browser.gatherUsageStats to false.\n",
            "\u001b[0m\n",
            "\u001b[0m\n",
            "\u001b[34m\u001b[1m  You can now view your Streamlit app in your browser.\u001b[0m\n",
            "\u001b[0m\n",
            "\u001b[34m  Local URL: \u001b[0m\u001b[1mhttp://localhost:8501\u001b[0m\n",
            "\u001b[34m  Network URL: \u001b[0m\u001b[1mhttp://172.28.0.12:8501\u001b[0m\n",
            "\u001b[34m  External URL: \u001b[0m\u001b[1mhttp://35.199.185.141:8501\u001b[0m\n",
            "\u001b[0m\n",
            "your url is: https://twenty-socks-judge.loca.lt\n",
            "/usr/local/lib/python3.10/dist-packages/sklearn/base.py:465: UserWarning: X does not have valid feature names, but OneHotEncoder was fitted with feature names\n",
            "  warnings.warn(\n",
            "/usr/local/lib/python3.10/dist-packages/sklearn/base.py:465: UserWarning: X does not have valid feature names, but OneHotEncoder was fitted with feature names\n",
            "  warnings.warn(\n",
            "/usr/local/lib/python3.10/dist-packages/sklearn/base.py:465: UserWarning: X does not have valid feature names, but OneHotEncoder was fitted with feature names\n",
            "  warnings.warn(\n"
          ]
        }
      ],
      "source": [
        "!streamlit run app.py & npx localtunnel --port 8501"
      ]
    },
    {
      "cell_type": "code",
      "execution_count": null,
      "metadata": {
        "id": "xan12Eh_n7kd"
      },
      "outputs": [],
      "source": [
        "y"
      ]
    },
    {
      "cell_type": "code",
      "execution_count": null,
      "metadata": {
        "id": "Fo4WTyPRzuoO"
      },
      "outputs": [],
      "source": []
    }
  ],
  "metadata": {
    "colab": {
      "provenance": []
    },
    "kernelspec": {
      "display_name": "Python 3",
      "name": "python3"
    },
    "language_info": {
      "name": "python"
    }
  },
  "nbformat": 4,
  "nbformat_minor": 0
}